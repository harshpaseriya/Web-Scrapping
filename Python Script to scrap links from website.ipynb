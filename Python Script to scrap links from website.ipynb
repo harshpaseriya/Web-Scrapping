{
 "cells": [
  {
   "cell_type": "code",
   "execution_count": 2,
   "metadata": {},
   "outputs": [],
   "source": [
    "import requests"
   ]
  },
  {
   "cell_type": "code",
   "execution_count": 3,
   "metadata": {},
   "outputs": [],
   "source": [
    "import bs4\n",
    "import fileinput"
   ]
  },
  {
   "cell_type": "code",
   "execution_count": 4,
   "metadata": {},
   "outputs": [],
   "source": [
    "res = requests.get('https://www.pythonforbeginners.com/requests/using-requests-in-python')"
   ]
  },
  {
   "cell_type": "code",
   "execution_count": 5,
   "metadata": {},
   "outputs": [],
   "source": [
    "soup =  bs4.BeautifulSoup(res.text, 'lxml')"
   ]
  },
  {
   "cell_type": "code",
   "execution_count": 6,
   "metadata": {},
   "outputs": [
    {
     "name": "stdout",
     "output_type": "stream",
     "text": [
      "#genesis-nav-primary\n",
      "#genesis-content\n",
      "#genesis-sidebar-primary\n",
      "https://www.pythonforbeginners.com/\n",
      "/\n",
      "/python-tutorial\n",
      "https://www.pythonforbeginners.com/basics/python-quick-guide\n",
      "https://www.pythonforbeginners.com/code-snippets-source-code/python-code-examples\n",
      "https://www.pythonforbeginners.com/\n",
      "https://www.pythonforbeginners.com/requests\n",
      "http://docs.python-requests.org/en/latest/user/install/\n",
      "https://www.datacamp.com/?tap_a=5644-dce66f&tap_s=75426-9cf8ad&tm_source=recommended\n",
      "http://docs.python-requests.org/en/latest/api/\n",
      "https://pypi.python.org/pypi/requests\n",
      "http://docs.python-requests.org/en/latest/user/quickstart/\n",
      "http://isbullsh.it/2012/06/Rest-api-in-python/#requests\n",
      "https://www.datacamp.com/?tap_a=5644-dce66f&tap_s=75426-9cf8ad&tm_source=recommended\n",
      "https://www.pythonforbeginners.com/requests\n",
      "https://www.pythonforbeginners.com/api\n",
      "https://www.pythonforbeginners.com/argparse\n",
      "https://www.pythonforbeginners.com/argv\n",
      "https://www.pythonforbeginners.com/basics\n",
      "https://www.pythonforbeginners.com/beautifulsoup\n",
      "https://www.pythonforbeginners.com/cheatsheet\n",
      "https://www.pythonforbeginners.com/code-snippets-source-code\n",
      "https://www.pythonforbeginners.com/collection\n",
      "https://www.pythonforbeginners.com/comments\n",
      "https://www.pythonforbeginners.com/concatenation\n",
      "https://www.pythonforbeginners.com/control-flow-2\n",
      "https://www.pythonforbeginners.com/csv\n",
      "https://www.pythonforbeginners.com/development\n",
      "https://www.pythonforbeginners.com/dictionary\n",
      "https://www.pythonforbeginners.com/error-handling\n",
      "https://www.pythonforbeginners.com/feedparser\n",
      "https://www.pythonforbeginners.com/files\n",
      "https://www.pythonforbeginners.com/gui\n",
      "https://www.pythonforbeginners.com/json\n",
      "https://www.pythonforbeginners.com/loops\n",
      "https://www.pythonforbeginners.com/modules-in-python\n",
      "https://www.pythonforbeginners.com/os\n",
      "https://www.pythonforbeginners.com/python-on-the-web\n",
      "https://www.pythonforbeginners.com/random\n",
      "https://www.pythonforbeginners.com/regex\n",
      "https://www.pythonforbeginners.com/requests\n",
      "https://www.pythonforbeginners.com/super\n",
      "https://www.pythonforbeginners.com/system\n",
      "https://www.pythonforbeginners.com/systems-programming\n",
      "https://www.pythonforbeginners.com/basics/python-quick-guide\n",
      "https://www.pythonforbeginners.com/code-snippets-source-code/python-code-examples\n",
      "https://www.pythonforbeginners.com/basics/loops\n",
      "https://www.pythonforbeginners.com/basics/python-functions-cheat-sheet\n",
      "https://www.pythonforbeginners.com/basics/strings\n",
      "https://www.pythonforbeginners.com/python-on-the-web/python-quick-start-web\n",
      "https://www.pythonforbeginners.com/basics/python-lists-cheat-sheet\n",
      "https://www.pythonforbeginners.com/dictionary/how-to-use-dictionaries-in-python\n",
      "https://www.pythonforbeginners.com/modules-in-python/python-modules\n",
      "https://www.pythonforbeginners.com/python-glossary\n",
      "https://www.pythonforbeginners.com/learn-python\n",
      "https://www.pythonforbeginners.com/files/reading-and-writing-files-in-python\n",
      "https://www.pythonforbeginners.com/concatenation/string-concatenation-and-formatting-in-python\n",
      "https://www.pythonforbeginners.com/basics/list-comprehensions-in-python\n",
      "https://www.pythonforbeginners.com/system/python-sys-argv\n",
      "https://www.pythonforbeginners.com/dictionary/python-split\n",
      "https://www.pythonforbeginners.com/comments/comments-in-python\n",
      "https://www.pythonforbeginners.com/basics/python-syntax-basics\n",
      "https://www.pythonforbeginners.com/development/python-2-vs-python-3-examples\n",
      "https://www.pythonforbeginners.com/development/how-run-your-python-scripts\n",
      "https://www.pythonforbeginners.com/development/5-best-python-ides-and-code-editors-2019\n",
      "https://www.pythonforbeginners.com/basics/python-syntax-basics\n",
      "https://www.pythonforbeginners.com/basics/hello-developers-meet-python-king-growth\n",
      "https://www.pythonforbeginners.com\n",
      "https://www.pythonforbeginners.com/contact-us\n",
      "https://www.pythonforbeginners.com/privacy-policy\n",
      "https://www.pythonforbeginners.com/write-for-us\n"
     ]
    }
   ],
   "source": [
    "f = open('textfile.txt', 'w')\n",
    "for link in soup.find_all('a', href= True):\n",
    "    print(link['href'])\n",
    "    f.write(link['href'])\n",
    "    f.write('\\n')\n",
    "f.close()"
   ]
  },
  {
   "cell_type": "code",
   "execution_count": 8,
   "metadata": {},
   "outputs": [],
   "source": []
  },
  {
   "cell_type": "code",
   "execution_count": null,
   "metadata": {},
   "outputs": [],
   "source": []
  },
  {
   "cell_type": "code",
   "execution_count": null,
   "metadata": {},
   "outputs": [],
   "source": []
  },
  {
   "cell_type": "code",
   "execution_count": null,
   "metadata": {},
   "outputs": [],
   "source": []
  }
 ],
 "metadata": {
  "kernelspec": {
   "display_name": "Python 3",
   "language": "python",
   "name": "python3"
  },
  "language_info": {
   "codemirror_mode": {
    "name": "ipython",
    "version": 3
   },
   "file_extension": ".py",
   "mimetype": "text/x-python",
   "name": "python",
   "nbconvert_exporter": "python",
   "pygments_lexer": "ipython3",
   "version": "3.7.3"
  }
 },
 "nbformat": 4,
 "nbformat_minor": 2
}
